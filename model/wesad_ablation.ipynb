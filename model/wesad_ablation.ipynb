{
  "cells": [
    {
      "cell_type": "code",
      "execution_count": 2,
      "metadata": {
        "execution": {
          "iopub.execute_input": "2024-06-13T08:51:00.103037Z",
          "iopub.status.busy": "2024-06-13T08:51:00.102711Z",
          "iopub.status.idle": "2024-06-13T08:51:01.055351Z",
          "shell.execute_reply": "2024-06-13T08:51:01.054492Z",
          "shell.execute_reply.started": "2024-06-13T08:51:00.103012Z"
        },
        "id": "xJMe3zF5y9iW",
        "trusted": true
      },
      "outputs": [],
      "source": [
        "import os\n",
        "import pickle\n",
        "import numpy as np\n",
        "import pandas as pd"
      ]
    },
    {
      "cell_type": "code",
      "execution_count": 3,
      "metadata": {
        "execution": {
          "iopub.execute_input": "2024-06-13T08:51:01.067357Z",
          "iopub.status.busy": "2024-06-13T08:51:01.067129Z",
          "iopub.status.idle": "2024-06-13T08:51:14.281739Z",
          "shell.execute_reply": "2024-06-13T08:51:14.280933Z",
          "shell.execute_reply.started": "2024-06-13T08:51:01.067336Z"
        },
        "id": "SHXOP3lvU-51",
        "trusted": true
      },
      "outputs": [],
      "source": [
        "import pandas as pd\n",
        "import numpy as np\n",
        "from sklearn.model_selection import train_test_split\n",
        "from tensorflow.keras.models import Sequential\n",
        "from tensorflow.keras.layers import Conv1D, MaxPooling1D, GRU, Dropout, Dense, Flatten\n",
        "from sklearn.preprocessing import LabelEncoder\n",
        "from tensorflow.keras.utils import to_categorical\n",
        "from sklearn.metrics import confusion_matrix\n",
        "import seaborn as sns\n",
        "import matplotlib.pyplot as plt\n",
        "from sklearn.metrics import confusion_matrix\n",
        "from sklearn.metrics import roc_curve, auc, roc_auc_score\n",
        "from sklearn.model_selection import TimeSeriesSplit"
      ]
    },
    {
      "cell_type": "code",
      "execution_count": 4,
      "metadata": {
        "execution": {
          "iopub.execute_input": "2024-06-13T08:51:14.285175Z",
          "iopub.status.busy": "2024-06-13T08:51:14.284463Z",
          "iopub.status.idle": "2024-06-13T08:51:14.290986Z",
          "shell.execute_reply": "2024-06-13T08:51:14.290117Z",
          "shell.execute_reply.started": "2024-06-13T08:51:14.285140Z"
        },
        "id": "3tv-Q5TMyrEW",
        "trusted": true
      },
      "outputs": [],
      "source": [
        "from tensorflow.keras.layers import LSTM, Dropout"
      ]
    },
    {
      "cell_type": "code",
      "execution_count": 5,
      "metadata": {
        "execution": {
          "iopub.execute_input": "2024-06-13T08:51:14.293041Z",
          "iopub.status.busy": "2024-06-13T08:51:14.292674Z",
          "iopub.status.idle": "2024-06-13T08:53:31.670871Z",
          "shell.execute_reply": "2024-06-13T08:53:31.669714Z",
          "shell.execute_reply.started": "2024-06-13T08:51:14.293009Z"
        },
        "id": "UF8L-4keGwqc",
        "trusted": true
      },
      "outputs": [],
      "source": [
        "from sklearn.model_selection import train_test_split\n",
        "from tensorflow.keras.callbacks import EarlyStopping\n",
        "\n",
        "\n",
        "merged_data = pd.read_csv(r\"3_labels.csv\")\n"
      ]
    },
    {
      "cell_type": "code",
      "execution_count": 6,
      "metadata": {
        "execution": {
          "iopub.execute_input": "2024-06-13T08:53:31.697620Z",
          "iopub.status.busy": "2024-06-13T08:53:31.696992Z",
          "iopub.status.idle": "2024-06-13T08:53:40.885098Z",
          "shell.execute_reply": "2024-06-13T08:53:40.884272Z",
          "shell.execute_reply.started": "2024-06-13T08:53:31.697589Z"
        },
        "id": "QJebmAMQyrEX",
        "trusted": true
      },
      "outputs": [],
      "source": [
        "X = merged_data.iloc[:, :-1].values\n",
        "y = merged_data.iloc[:, -1].values\n",
        "\n",
        "X = X.reshape(X.shape[0], X.shape[1], 1)\n",
        "\n",
        "X_train, X_test, y_train, y_test = train_test_split(X, y, test_size=0.3, random_state=42)"
      ]
    },
    {
      "cell_type": "code",
      "execution_count": 7,
      "metadata": {
        "colab": {
          "base_uri": "https://localhost:8080/"
        },
        "execution": {
          "iopub.execute_input": "2024-06-13T08:53:40.886423Z",
          "iopub.status.busy": "2024-06-13T08:53:40.886166Z",
          "iopub.status.idle": "2024-06-13T08:53:41.100277Z",
          "shell.execute_reply": "2024-06-13T08:53:41.099228Z",
          "shell.execute_reply.started": "2024-06-13T08:53:40.886400Z"
        },
        "id": "drsQOlMqyrEY",
        "outputId": "ac0c5f31-9e48-4005-e588-89a70c0e7f7e",
        "trusted": true
      },
      "outputs": [
        {
          "data": {
            "text/plain": [
              "266"
            ]
          },
          "execution_count": 7,
          "metadata": {},
          "output_type": "execute_result"
        }
      ],
      "source": [
        "import gc\n",
        "del merged_data,X,y\n",
        "gc.collect()"
      ]
    },
    {
      "cell_type": "code",
      "execution_count": 8,
      "metadata": {
        "execution": {
          "iopub.execute_input": "2024-06-13T09:24:21.415965Z",
          "iopub.status.busy": "2024-06-13T09:24:21.415592Z",
          "iopub.status.idle": "2024-06-13T09:24:21.555431Z",
          "shell.execute_reply": "2024-06-13T09:24:21.554681Z",
          "shell.execute_reply.started": "2024-06-13T09:24:21.415935Z"
        },
        "id": "gVdh3wniyrEY",
        "trusted": true
      },
      "outputs": [],
      "source": [
        "from keras.callbacks import ModelCheckpoint, EarlyStopping\n",
        "model = Sequential()\n",
        "\n",
        "# CNN layers\n",
        "model.add(Conv1D(filters=64, kernel_size=3, activation='relu', input_shape=(X_train.shape[1], 1)))\n",
        "model.add(MaxPooling1D(pool_size=1))\n",
        "model.add(Conv1D(filters=128, kernel_size=3, activation='relu'))\n",
        "model.add(MaxPooling1D(pool_size=1))\n",
        "model.add(Flatten())\n",
        "\n",
        "# # LSTM layers with dropout\n",
        "# model.add(LSTM(64, return_sequences=True))\n",
        "# model.add(Dropout(0.3))\n",
        "# model.add(LSTM(64, return_sequences=False))\n",
        "# model.add(Dropout(0.3))\n",
        "\n",
        "# Fully connected layers\n",
        "model.add(Dense(64, activation='relu'))\n",
        "model.add(Dropout(0.3))\n",
        "model.add(Dense(3, activation='softmax'))\n",
        "model.compile(loss='sparse_categorical_crossentropy', optimizer='adam', metrics=['accuracy'])\n",
        "\n",
        "early_stopping = EarlyStopping(monitor='val_loss', patience=5, restore_best_weights=True)\n",
        "model_checkpoint = ModelCheckpoint('cnn_lstm_wesad_ablation.keras', monitor='val_accuracy', save_best_only=True, mode='max')\n",
        "\n",
        "\n",
        "\n"
      ]
    },
    {
      "cell_type": "code",
      "execution_count": 9,
      "metadata": {
        "execution": {
          "iopub.execute_input": "2024-06-13T09:24:24.567131Z",
          "iopub.status.busy": "2024-06-13T09:24:24.566216Z"
        },
        "id": "OuosoIqzyrEY",
        "trusted": true
      },
      "outputs": [
        {
          "name": "stdout",
          "output_type": "stream",
          "text": [
            "Epoch 1/20\n",
            "32101/32101 [==============================] - 111s 3ms/step - loss: 0.2807 - accuracy: 0.8863 - val_loss: 0.1845 - val_accuracy: 0.9304\n",
            "Epoch 2/20\n",
            "32101/32101 [==============================] - 111s 3ms/step - loss: 0.2034 - accuracy: 0.9221 - val_loss: 0.1853 - val_accuracy: 0.9285\n",
            "Epoch 3/20\n",
            "32101/32101 [==============================] - 118s 4ms/step - loss: 0.1850 - accuracy: 0.9297 - val_loss: 0.1552 - val_accuracy: 0.9423\n",
            "Epoch 4/20\n",
            "32101/32101 [==============================] - 115s 4ms/step - loss: 0.1743 - accuracy: 0.9340 - val_loss: 0.1326 - val_accuracy: 0.9525\n",
            "Epoch 5/20\n",
            "32101/32101 [==============================] - 116s 4ms/step - loss: 0.1665 - accuracy: 0.9371 - val_loss: 0.1518 - val_accuracy: 0.9421\n",
            "Epoch 6/20\n",
            "32101/32101 [==============================] - 116s 4ms/step - loss: 0.1606 - accuracy: 0.9393 - val_loss: 0.1309 - val_accuracy: 0.9518\n",
            "Epoch 7/20\n",
            "32101/32101 [==============================] - 116s 4ms/step - loss: 0.1552 - accuracy: 0.9415 - val_loss: 0.1419 - val_accuracy: 0.9453\n",
            "Epoch 8/20\n",
            "32101/32101 [==============================] - 117s 4ms/step - loss: 0.1509 - accuracy: 0.9431 - val_loss: 0.1201 - val_accuracy: 0.9552\n",
            "Epoch 9/20\n",
            "32101/32101 [==============================] - 117s 4ms/step - loss: 0.1468 - accuracy: 0.9448 - val_loss: 0.1134 - val_accuracy: 0.9586\n",
            "Epoch 10/20\n",
            "32101/32101 [==============================] - 117s 4ms/step - loss: 0.1433 - accuracy: 0.9462 - val_loss: 0.1194 - val_accuracy: 0.9549\n",
            "Epoch 11/20\n",
            "32101/32101 [==============================] - 117s 4ms/step - loss: 0.1403 - accuracy: 0.9474 - val_loss: 0.1045 - val_accuracy: 0.9623\n",
            "Epoch 12/20\n",
            "32101/32101 [==============================] - 117s 4ms/step - loss: 0.1378 - accuracy: 0.9485 - val_loss: 0.1056 - val_accuracy: 0.9624\n",
            "Epoch 13/20\n",
            "32101/32101 [==============================] - 118s 4ms/step - loss: 0.1352 - accuracy: 0.9496 - val_loss: 0.1046 - val_accuracy: 0.9625\n",
            "Epoch 14/20\n",
            "32101/32101 [==============================] - 118s 4ms/step - loss: 0.1331 - accuracy: 0.9505 - val_loss: 0.1018 - val_accuracy: 0.9629\n",
            "Epoch 15/20\n",
            "32101/32101 [==============================] - 119s 4ms/step - loss: 0.1309 - accuracy: 0.9514 - val_loss: 0.1020 - val_accuracy: 0.9628\n",
            "Epoch 16/20\n",
            "32101/32101 [==============================] - 118s 4ms/step - loss: 0.1290 - accuracy: 0.9522 - val_loss: 0.1162 - val_accuracy: 0.9577\n",
            "Epoch 17/20\n",
            "32101/32101 [==============================] - 118s 4ms/step - loss: 0.1272 - accuracy: 0.9529 - val_loss: 0.1020 - val_accuracy: 0.9627\n",
            "Epoch 18/20\n",
            "32101/32101 [==============================] - 119s 4ms/step - loss: 0.1253 - accuracy: 0.9536 - val_loss: 0.0948 - val_accuracy: 0.9657\n",
            "Epoch 19/20\n",
            "32101/32101 [==============================] - 118s 4ms/step - loss: 0.1238 - accuracy: 0.9542 - val_loss: 0.0944 - val_accuracy: 0.9666\n",
            "Epoch 20/20\n",
            "32101/32101 [==============================] - 118s 4ms/step - loss: 0.1223 - accuracy: 0.9548 - val_loss: 0.0935 - val_accuracy: 0.9662\n"
          ]
        }
      ],
      "source": [
        "history = model.fit(X_train, y_train, epochs=20, batch_size=1024,validation_data=(X_test, y_test), callbacks=[early_stopping, model_checkpoint])"
      ]
    },
    {
      "cell_type": "code",
      "execution_count": 10,
      "metadata": {
        "colab": {
          "base_uri": "https://localhost:8080/"
        },
        "id": "ashGWDFNbtXv",
        "outputId": "25ab058a-3186-4dec-fd7a-45c7ddb8022b"
      },
      "outputs": [
        {
          "data": {
            "text/plain": [
              "1629"
            ]
          },
          "execution_count": 10,
          "metadata": {},
          "output_type": "execute_result"
        }
      ],
      "source": [
        "import gc\n",
        "del X_train\n",
        "gc.collect()"
      ]
    },
    {
      "cell_type": "code",
      "execution_count": 11,
      "metadata": {
        "colab": {
          "base_uri": "https://localhost:8080/"
        },
        "execution": {
          "iopub.status.busy": "2024-06-13T09:24:14.860164Z",
          "iopub.status.idle": "2024-06-13T09:24:14.860514Z",
          "shell.execute_reply": "2024-06-13T09:24:14.860339Z",
          "shell.execute_reply.started": "2024-06-13T09:24:14.860326Z"
        },
        "id": "h7DclkubyrEY",
        "outputId": "ed10fdc9-633f-4ced-ba7f-9135f429b735",
        "trusted": true
      },
      "outputs": [
        {
          "name": "stdout",
          "output_type": "stream",
          "text": [
            "440239/440239 [==============================] - 439s 996us/step\n"
          ]
        }
      ],
      "source": [
        "from sklearn.metrics import classification_report\n",
        "predict_x=model.predict(X_test)\n",
        "\n"
      ]
    },
    {
      "cell_type": "code",
      "execution_count": 12,
      "metadata": {
        "id": "1X_ODhRKXNMD"
      },
      "outputs": [
        {
          "data": {
            "text/plain": [
              "688"
            ]
          },
          "execution_count": 12,
          "metadata": {},
          "output_type": "execute_result"
        }
      ],
      "source": [
        "import gc\n",
        "del X_test,y_train\n",
        "gc.collect()"
      ]
    },
    {
      "cell_type": "code",
      "execution_count": 13,
      "metadata": {
        "id": "PFLw5GSTXKYz"
      },
      "outputs": [
        {
          "name": "stdout",
          "output_type": "stream",
          "text": [
            "Classification Report: \n",
            "              precision    recall  f1-score   support\n",
            "\n",
            "         0.0       0.98      0.96      0.97   8298360\n",
            "         1.0       0.97      0.99      0.98   3697260\n",
            "         2.0       0.90      0.93      0.92   2092020\n",
            "\n",
            "    accuracy                           0.97  14087640\n",
            "   macro avg       0.95      0.96      0.96  14087640\n",
            "weighted avg       0.97      0.97      0.97  14087640\n",
            "\n"
          ]
        }
      ],
      "source": [
        "y_pred=np.argmax(predict_x,axis=1)\n",
        "print(f\"Classification Report: \\n{classification_report(y_test, y_pred)}\")\n",
        "from sklearn.metrics import roc_curve, auc, roc_auc_score"
      ]
    },
    {
      "cell_type": "code",
      "execution_count": 14,
      "metadata": {
        "execution": {
          "iopub.status.busy": "2024-06-13T09:24:14.861743Z",
          "iopub.status.idle": "2024-06-13T09:24:14.862133Z",
          "shell.execute_reply": "2024-06-13T09:24:14.861939Z",
          "shell.execute_reply.started": "2024-06-13T09:24:14.861925Z"
        },
        "id": "-Ropz9LTyrEZ",
        "trusted": true
      },
      "outputs": [],
      "source": [
        "\n",
        "# print(f\"Confusion Matrix for:\\n\")\n",
        "# def plot_confusion_matrix(y_true, y_pred, classes):\n",
        "#   cm = confusion_matrix(y_true, y_pred)\n",
        "#   plt.figure(figsize=(8, 6))\n",
        "#   sns.heatmap(cm, annot=True, fmt=\"d\", cmap=\"Blues\", xticklabels=classes, yticklabels=classes)\n",
        "#   plt.title(\"Confusion Matrix\")\n",
        "#   plt.xlabel(\"Predicted\")\n",
        "#   plt.ylabel(\"True\")\n",
        "#   plt.show()\n",
        "\n",
        "# # Plot the confusion matrix\n",
        "# y_pred_prob = predict_x\n",
        "# y_pred = np.argmax(y_pred_prob, axis=1)\n",
        "# plot_confusion_matrix(y_test, y_pred, classes=['0', '1', '2'])\n",
        "# # Compute ROC curve and ROC area for each class\n",
        "# print(f\"ROC for :\\n\")\n",
        "# import numpy as np\n",
        "# import matplotlib.pyplot as plt\n",
        "# from sklearn.metrics import roc_curve, auc\n",
        "# from sklearn.preprocessing import label_binarize\n",
        "# from sklearn.multiclass import OneVsRestClassifier\n",
        "# from sklearn.metrics import roc_auc_score\n",
        "# n_classes = 3\n",
        "# # Binarize the labels\n",
        "# y_test_bin = label_binarize(y_test, classes=np.arange(n_classes))\n",
        "# y_pred_bin = label_binarize(y_pred, classes=np.arange(n_classes))\n",
        "# # Compute ROC curve and ROC area for each class\n",
        "# fpr = dict()\n",
        "# tpr = dict()\n",
        "# roc_auc = dict()\n",
        "\n",
        "# for i in range(n_classes):\n",
        "#   fpr[i], tpr[i], _ = roc_curve(y_test_bin[:, i], y_pred_bin[:, i])\n",
        "#   roc_auc[i] = auc(fpr[i], tpr[i])\n",
        "\n",
        "# # Plotting ROC curves\n",
        "# plt.figure(figsize=(10, 8))\n",
        "\n",
        "# # Plot ROC curve for each class\n",
        "# for i in range(n_classes):\n",
        "#   plt.plot(fpr[i], tpr[i], label=f'Class {i} (AUC = {roc_auc[i]:.2f})')\n",
        "\n",
        "# plt.plot([0, 1], [0, 1], 'k--', lw=2)  # Diagonal line for reference\n",
        "# plt.xlabel('False Positive Rate')\n",
        "# plt.ylabel('True Positive Rate')\n",
        "# plt.title('Receiver Operating Characteristic (ROC) Curve')\n",
        "# plt.legend(loc=\"lower right\")\n",
        "# plt.show()\n",
        "\n",
        "# print(f\"Training and Validation Curves\")\n",
        "# # Plot training & validation accuracy values\n",
        "# plt.figure(figsize=(12, 6))\n",
        "# plt.plot(history.history['accuracy'])\n",
        "# plt.plot(history.history['val_accuracy'])\n",
        "# plt.title('Model accuracy')\n",
        "# plt.xlabel('Epoch')\n",
        "# plt.ylabel('Accuracy')\n",
        "# plt.legend(['Train', 'Validation'], loc='upper left')\n",
        "# plt.show()\n",
        "\n",
        "# # Plot training & validation loss values\n",
        "# plt.figure(figsize=(12, 6))\n",
        "# plt.plot(history.history['loss'])\n",
        "# plt.plot(history.history['val_loss'])\n",
        "# plt.title('Model loss')\n",
        "# plt.xlabel('Epoch')\n",
        "# plt.ylabel('Loss')\n",
        "# plt.legend(['Train', 'Validation'], loc='upper left')\n",
        "# plt.show()"
      ]
    },
    {
      "cell_type": "code",
      "execution_count": 15,
      "metadata": {
        "execution": {
          "iopub.status.busy": "2024-06-13T09:24:14.863228Z",
          "iopub.status.idle": "2024-06-13T09:24:14.863584Z",
          "shell.execute_reply": "2024-06-13T09:24:14.863405Z",
          "shell.execute_reply.started": "2024-06-13T09:24:14.863391Z"
        },
        "id": "5O6ev7uDyrEZ",
        "trusted": true
      },
      "outputs": [
        {
          "name": "stdout",
          "output_type": "stream",
          "text": [
            "0.9661610461368974\n"
          ]
        }
      ],
      "source": [
        "from sklearn.metrics import accuracy_score\n",
        "accuracy = accuracy_score(y_test, y_pred)\n",
        "print(accuracy)"
      ]
    }
  ],
  "metadata": {
    "accelerator": "GPU",
    "colab": {
      "gpuType": "T4",
      "provenance": []
    },
    "kaggle": {
      "accelerator": "gpu",
      "dataSources": [
        {
          "datasetId": 4578332,
          "sourceId": 7815369,
          "sourceType": "datasetVersion"
        }
      ],
      "dockerImageVersionId": 30665,
      "isGpuEnabled": true,
      "isInternetEnabled": true,
      "language": "python",
      "sourceType": "notebook"
    },
    "kernelspec": {
      "display_name": "Python 3",
      "name": "python3"
    },
    "language_info": {
      "codemirror_mode": {
        "name": "ipython",
        "version": 3
      },
      "file_extension": ".py",
      "mimetype": "text/x-python",
      "name": "python",
      "nbconvert_exporter": "python",
      "pygments_lexer": "ipython3",
      "version": "3.10.7"
    }
  },
  "nbformat": 4,
  "nbformat_minor": 0
}
