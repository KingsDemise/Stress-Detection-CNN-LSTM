{
 "cells": [
  {
   "cell_type": "code",
   "execution_count": 1,
   "id": "dbec1810",
   "metadata": {},
   "outputs": [],
   "source": [
    "import pickle\n",
    "import numpy as np\n",
    "import pandas as pd\n",
    "import matplotlib\n",
    "import matplotlib.pyplot as plt\n",
    "%matplotlib inline\n",
    "import pandas as pd\n",
    "import csv"
   ]
  },
  {
   "cell_type": "code",
   "execution_count": 2,
   "id": "7bb85c81",
   "metadata": {},
   "outputs": [],
   "source": [
    "s3_data= \"WESAD\\S3\\S3.pkl\"\n",
    "s4_data= \"WESAD\\S4\\S4.pkl\"\n",
    "s5_data= \"WESAD\\S5\\S5.pkl\"\n",
    "s6_data= \"WESAD\\S6\\S6.pkl\"\n",
    "s7_data= \"WESAD\\S7\\S7.pkl\"\n",
    "s8_data= \"WESAD\\S8\\S8.pkl\"\n",
    "s9_data= \"WESAD\\S9\\S9.pkl\"\n",
    "s10_data= \"WESAD\\S10\\S10.pkl\"\n",
    "s11_data= \"WESAD\\S11\\S11.pkl\"\n",
    "s13_data= \"WESAD\\S13\\S13.pkl\"\n",
    "s14_data= \"WESAD\\S14\\S14.pkl\"\n",
    "s15_data= \"WESAD\\S15\\S15.pkl\"\n",
    "s16_data= \"WESAD\\S16\\S16.pkl\"\n",
    "s17_data= \"WESAD\\S17\\S17.pkl\""
   ]
  },
  {
   "cell_type": "code",
   "execution_count": 3,
   "id": "e0850d01",
   "metadata": {},
   "outputs": [],
   "source": [
    "with open(s3_data, 'rb') as file:\n",
    "    s3_data = pickle.load(file, encoding='latin1')"
   ]
  },
  {
   "cell_type": "code",
   "execution_count": 4,
   "id": "86ab063c",
   "metadata": {},
   "outputs": [],
   "source": [
    "with open(s4_data, 'rb') as file:\n",
    "    s4_data = pickle.load(file, encoding='latin1')"
   ]
  },
  {
   "cell_type": "code",
   "execution_count": 5,
   "id": "5870b825",
   "metadata": {},
   "outputs": [],
   "source": [
    "with open(s5_data, 'rb') as file:\n",
    "    s5_data = pickle.load(file, encoding='latin1')"
   ]
  },
  {
   "cell_type": "code",
   "execution_count": 6,
   "id": "76f8b275",
   "metadata": {},
   "outputs": [],
   "source": [
    "with open(s6_data, 'rb') as file:\n",
    "    s6_data = pickle.load(file, encoding='latin1')"
   ]
  },
  {
   "cell_type": "code",
   "execution_count": 7,
   "id": "23518fed",
   "metadata": {},
   "outputs": [],
   "source": [
    "with open(s7_data, 'rb') as file:\n",
    "    s7_data = pickle.load(file, encoding='latin1')"
   ]
  },
  {
   "cell_type": "code",
   "execution_count": 8,
   "id": "c8c1fcca",
   "metadata": {},
   "outputs": [],
   "source": [
    "with open(s8_data, 'rb') as file:\n",
    "    s8_data = pickle.load(file, encoding='latin1')"
   ]
  },
  {
   "cell_type": "code",
   "execution_count": 9,
   "id": "78afc22a",
   "metadata": {},
   "outputs": [],
   "source": [
    "with open(s9_data, 'rb') as file:\n",
    "    s9_data = pickle.load(file, encoding='latin1')"
   ]
  },
  {
   "cell_type": "code",
   "execution_count": 10,
   "id": "30ee02cb",
   "metadata": {},
   "outputs": [],
   "source": [
    "with open(s10_data, 'rb') as file:\n",
    "    s10_data = pickle.load(file, encoding='latin1')"
   ]
  },
  {
   "cell_type": "code",
   "execution_count": 11,
   "id": "0f85fd25",
   "metadata": {},
   "outputs": [],
   "source": [
    "with open(s11_data, 'rb') as file:\n",
    "    s11_data = pickle.load(file, encoding='latin1')"
   ]
  },
  {
   "cell_type": "code",
   "execution_count": 12,
   "id": "e36d5d07",
   "metadata": {},
   "outputs": [],
   "source": [
    "with open(s13_data, 'rb') as file:\n",
    "    s13_data = pickle.load(file, encoding='latin1')"
   ]
  },
  {
   "cell_type": "code",
   "execution_count": 13,
   "id": "f18fc360",
   "metadata": {},
   "outputs": [],
   "source": [
    "with open(s14_data, 'rb') as file:\n",
    "    s14_data = pickle.load(file, encoding='latin1')"
   ]
  },
  {
   "cell_type": "code",
   "execution_count": 14,
   "id": "8561f0ec",
   "metadata": {},
   "outputs": [],
   "source": [
    "with open(s15_data, 'rb') as file:\n",
    "    s15_data = pickle.load(file, encoding='latin1')"
   ]
  },
  {
   "cell_type": "code",
   "execution_count": 15,
   "id": "d2035ebe",
   "metadata": {},
   "outputs": [],
   "source": [
    "with open(s16_data, 'rb') as file:\n",
    "    s16_data = pickle.load(file, encoding='latin1')"
   ]
  },
  {
   "cell_type": "code",
   "execution_count": 16,
   "id": "d0ec5ed3",
   "metadata": {},
   "outputs": [],
   "source": [
    "with open(s17_data, 'rb') as file:\n",
    "    s17_data = pickle.load(file, encoding='latin1')"
   ]
  },
  {
   "cell_type": "code",
   "execution_count": 17,
   "id": "ee7c1be5",
   "metadata": {},
   "outputs": [
    {
     "name": "stdout",
     "output_type": "stream",
     "text": [
      "dict_keys(['signal', 'label', 'subject'])\n",
      "dict_keys(['signal', 'label', 'subject'])\n",
      "dict_keys(['signal', 'label', 'subject'])\n",
      "dict_keys(['signal', 'label', 'subject'])\n",
      "dict_keys(['signal', 'label', 'subject'])\n",
      "dict_keys(['signal', 'label', 'subject'])\n",
      "dict_keys(['signal', 'label', 'subject'])\n",
      "dict_keys(['signal', 'label', 'subject'])\n",
      "dict_keys(['signal', 'label', 'subject'])\n",
      "dict_keys(['signal', 'label', 'subject'])\n",
      "dict_keys(['signal', 'label', 'subject'])\n",
      "dict_keys(['signal', 'label', 'subject'])\n",
      "dict_keys(['signal', 'label', 'subject'])\n",
      "dict_keys(['signal', 'label', 'subject'])\n"
     ]
    }
   ],
   "source": [
    "print(s3_data.keys())\n",
    "print(s4_data.keys())\n",
    "print(s5_data.keys())\n",
    "print(s6_data.keys())\n",
    "print(s7_data.keys())\n",
    "print(s8_data.keys())\n",
    "print(s9_data.keys())\n",
    "print(s10_data.keys())\n",
    "print(s11_data.keys())\n",
    "print(s13_data.keys())\n",
    "print(s14_data.keys())\n",
    "print(s15_data.keys())\n",
    "print(s16_data.keys())\n",
    "print(s17_data.keys())"
   ]
  },
  {
   "cell_type": "code",
   "execution_count": 18,
   "id": "d54c8e6c",
   "metadata": {},
   "outputs": [
    {
     "name": "stdout",
     "output_type": "stream",
     "text": [
      "dict_keys(['chest', 'wrist'])\n",
      "dict_keys(['chest', 'wrist'])\n",
      "dict_keys(['chest', 'wrist'])\n",
      "dict_keys(['chest', 'wrist'])\n",
      "dict_keys(['chest', 'wrist'])\n",
      "dict_keys(['chest', 'wrist'])\n",
      "dict_keys(['chest', 'wrist'])\n",
      "dict_keys(['chest', 'wrist'])\n",
      "dict_keys(['chest', 'wrist'])\n",
      "dict_keys(['chest', 'wrist'])\n",
      "dict_keys(['chest', 'wrist'])\n",
      "dict_keys(['chest', 'wrist'])\n",
      "dict_keys(['chest', 'wrist'])\n",
      "dict_keys(['chest', 'wrist'])\n"
     ]
    }
   ],
   "source": [
    "print(s3_data['signal'].keys())\n",
    "print(s4_data['signal'].keys())\n",
    "print(s5_data['signal'].keys())\n",
    "print(s6_data['signal'].keys())\n",
    "print(s7_data['signal'].keys())\n",
    "print(s8_data['signal'].keys())\n",
    "print(s9_data['signal'].keys())\n",
    "print(s10_data['signal'].keys())\n",
    "print(s11_data['signal'].keys())\n",
    "print(s13_data['signal'].keys())\n",
    "print(s14_data['signal'].keys())\n",
    "print(s15_data['signal'].keys())\n",
    "print(s16_data['signal'].keys())\n",
    "print(s17_data['signal'].keys())"
   ]
  },
  {
   "cell_type": "code",
   "execution_count": 19,
   "id": "9421108f",
   "metadata": {},
   "outputs": [],
   "source": [
    "chest_ax3 = s3_data['signal']['chest']['ACC'][0:,0]\n",
    "chest_ay3 = s3_data['signal']['chest']['ACC'][0:,1]\n",
    "chest_az3 = s3_data['signal']['chest']['ACC'][0:,2]\n",
    "chest_ecg3 = s3_data['signal']['chest']['ECG'][:,0]\n",
    "chest_emg3 = s3_data['signal']['chest']['EMG'][:,0]\n",
    "chest_eda3 = s3_data['signal']['chest']['EDA'][:,0]\n",
    "chest_temp3 = s3_data['signal']['chest']['Temp'][:,0]\n",
    "chest_resp3 = s3_data['signal']['chest']['Resp'][:,0]\n",
    "\n",
    "chest_ax4 = s4_data['signal']['chest']['ACC'][0:,0]\n",
    "chest_ay4 = s4_data['signal']['chest']['ACC'][0:,1]\n",
    "chest_az4 = s4_data['signal']['chest']['ACC'][0:,2]\n",
    "chest_ecg4 = s4_data['signal']['chest']['ECG'][:,0]\n",
    "chest_emg4 = s4_data['signal']['chest']['EMG'][:,0]\n",
    "chest_eda4 = s4_data['signal']['chest']['EDA'][:,0]\n",
    "chest_temp4 = s4_data['signal']['chest']['Temp'][:,0]\n",
    "chest_resp4 = s4_data['signal']['chest']['Resp'][:,0]\n",
    "\n",
    "chest_ax5 = s5_data['signal']['chest']['ACC'][0:,0]\n",
    "chest_ay5 = s5_data['signal']['chest']['ACC'][0:,1]\n",
    "chest_az5 = s5_data['signal']['chest']['ACC'][0:,2]\n",
    "chest_ecg5 = s5_data['signal']['chest']['ECG'][:,0]\n",
    "chest_emg5 = s5_data['signal']['chest']['EMG'][:,0]\n",
    "chest_eda5 = s5_data['signal']['chest']['EDA'][:,0]\n",
    "chest_temp5 = s5_data['signal']['chest']['Temp'][:,0]\n",
    "chest_resp5 = s5_data['signal']['chest']['Resp'][:,0]\n",
    "\n",
    "chest_ax6 = s6_data['signal']['chest']['ACC'][0:,0]\n",
    "chest_ay6 = s6_data['signal']['chest']['ACC'][0:,1]\n",
    "chest_az6 = s6_data['signal']['chest']['ACC'][0:,2]\n",
    "chest_ecg6 = s6_data['signal']['chest']['ECG'][:,0]\n",
    "chest_emg6 = s6_data['signal']['chest']['EMG'][:,0]\n",
    "chest_eda6 = s6_data['signal']['chest']['EDA'][:,0]\n",
    "chest_temp6 = s6_data['signal']['chest']['Temp'][:,0]\n",
    "chest_resp6 = s6_data['signal']['chest']['Resp'][:,0]\n",
    "\n",
    "chest_ax7 = s7_data['signal']['chest']['ACC'][0:,0]\n",
    "chest_ay7 = s7_data['signal']['chest']['ACC'][0:,1]\n",
    "chest_az7 = s7_data['signal']['chest']['ACC'][0:,2]\n",
    "chest_ecg7 = s7_data['signal']['chest']['ECG'][:,0]\n",
    "chest_emg7 = s7_data['signal']['chest']['EMG'][:,0]\n",
    "chest_eda7 = s7_data['signal']['chest']['EDA'][:,0]\n",
    "chest_temp7 = s7_data['signal']['chest']['Temp'][:,0]\n",
    "chest_resp7 = s7_data['signal']['chest']['Resp'][:,0]\n",
    "\n",
    "chest_ax8 = s8_data['signal']['chest']['ACC'][0:,0]\n",
    "chest_ay8 = s8_data['signal']['chest']['ACC'][0:,1]\n",
    "chest_az8 = s8_data['signal']['chest']['ACC'][0:,2]\n",
    "chest_ecg8 = s8_data['signal']['chest']['ECG'][:,0]\n",
    "chest_emg8 = s8_data['signal']['chest']['EMG'][:,0]\n",
    "chest_eda8 = s8_data['signal']['chest']['EDA'][:,0]\n",
    "chest_temp8 = s8_data['signal']['chest']['Temp'][:,0]\n",
    "chest_resp8 = s8_data['signal']['chest']['Resp'][:,0]\n",
    "\n",
    "chest_ax9 = s9_data['signal']['chest']['ACC'][0:,0]\n",
    "chest_ay9 = s9_data['signal']['chest']['ACC'][0:,1]\n",
    "chest_az9 = s9_data['signal']['chest']['ACC'][0:,2]\n",
    "chest_ecg9 = s9_data['signal']['chest']['ECG'][:,0]\n",
    "chest_emg9 = s9_data['signal']['chest']['EMG'][:,0]\n",
    "chest_eda9 = s9_data['signal']['chest']['EDA'][:,0]\n",
    "chest_temp9 = s9_data['signal']['chest']['Temp'][:,0]\n",
    "chest_resp9 = s9_data['signal']['chest']['Resp'][:,0]\n",
    "\n",
    "chest_ax10 = s10_data['signal']['chest']['ACC'][0:,0]\n",
    "chest_ay10 = s10_data['signal']['chest']['ACC'][0:,1]\n",
    "chest_az10 = s10_data['signal']['chest']['ACC'][0:,2]\n",
    "chest_ecg10 = s10_data['signal']['chest']['ECG'][:,0]\n",
    "chest_emg10 = s10_data['signal']['chest']['EMG'][:,0]\n",
    "chest_eda10 = s10_data['signal']['chest']['EDA'][:,0]\n",
    "chest_temp10 = s10_data['signal']['chest']['Temp'][:,0]\n",
    "chest_resp10 = s10_data['signal']['chest']['Resp'][:,0]\n",
    "\n",
    "chest_ax11 = s11_data['signal']['chest']['ACC'][0:,0]\n",
    "chest_ay11 = s11_data['signal']['chest']['ACC'][0:,1]\n",
    "chest_az11 = s11_data['signal']['chest']['ACC'][0:,2]\n",
    "chest_ecg11 = s11_data['signal']['chest']['ECG'][:,0]\n",
    "chest_emg11 = s11_data['signal']['chest']['EMG'][:,0]\n",
    "chest_eda11 = s11_data['signal']['chest']['EDA'][:,0]\n",
    "chest_temp11 = s11_data['signal']['chest']['Temp'][:,0]\n",
    "chest_resp11 = s11_data['signal']['chest']['Resp'][:,0]\n",
    "\n",
    "chest_ax13 = s13_data['signal']['chest']['ACC'][0:,0]\n",
    "chest_ay13 = s13_data['signal']['chest']['ACC'][0:,1]\n",
    "chest_az13 = s13_data['signal']['chest']['ACC'][0:,2]\n",
    "chest_ecg13 = s13_data['signal']['chest']['ECG'][:,0]\n",
    "chest_emg13 = s13_data['signal']['chest']['EMG'][:,0]\n",
    "chest_eda13 = s13_data['signal']['chest']['EDA'][:,0]\n",
    "chest_temp13 = s13_data['signal']['chest']['Temp'][:,0]\n",
    "chest_resp13 = s13_data['signal']['chest']['Resp'][:,0]\n",
    "\n",
    "chest_ax14 = s14_data['signal']['chest']['ACC'][0:,0]\n",
    "chest_ay14 = s14_data['signal']['chest']['ACC'][0:,1]\n",
    "chest_az14 = s14_data['signal']['chest']['ACC'][0:,2]\n",
    "chest_ecg14 = s14_data['signal']['chest']['ECG'][:,0]\n",
    "chest_emg14 = s14_data['signal']['chest']['EMG'][:,0]\n",
    "chest_eda14 = s14_data['signal']['chest']['EDA'][:,0]\n",
    "chest_temp14 = s14_data['signal']['chest']['Temp'][:,0]\n",
    "chest_resp14 = s14_data['signal']['chest']['Resp'][:,0]\n",
    "\n",
    "chest_ax15 = s15_data['signal']['chest']['ACC'][0:,0]\n",
    "chest_ay15 = s15_data['signal']['chest']['ACC'][0:,1]\n",
    "chest_az15 = s15_data['signal']['chest']['ACC'][0:,2]\n",
    "chest_ecg15 = s15_data['signal']['chest']['ECG'][:,0]\n",
    "chest_emg15 = s15_data['signal']['chest']['EMG'][:,0]\n",
    "chest_eda15 = s15_data['signal']['chest']['EDA'][:,0]\n",
    "chest_temp15 = s15_data['signal']['chest']['Temp'][:,0]\n",
    "chest_resp15 = s15_data['signal']['chest']['Resp'][:,0]\n",
    "\n",
    "chest_ax16 = s16_data['signal']['chest']['ACC'][0:,0]\n",
    "chest_ay16 = s16_data['signal']['chest']['ACC'][0:,1]\n",
    "chest_az16 = s16_data['signal']['chest']['ACC'][0:,2]\n",
    "chest_ecg16 = s16_data['signal']['chest']['ECG'][:,0]\n",
    "chest_emg16 = s16_data['signal']['chest']['EMG'][:,0]\n",
    "chest_eda16 = s16_data['signal']['chest']['EDA'][:,0]\n",
    "chest_temp16 = s16_data['signal']['chest']['Temp'][:,0]\n",
    "chest_resp16 = s16_data['signal']['chest']['Resp'][:,0]\n",
    "\n",
    "chest_ax17 = s17_data['signal']['chest']['ACC'][0:,0]\n",
    "chest_ay17 = s17_data['signal']['chest']['ACC'][0:,1]\n",
    "chest_az17 = s17_data['signal']['chest']['ACC'][0:,2]\n",
    "chest_ecg17 = s17_data['signal']['chest']['ECG'][:,0]\n",
    "chest_emg17 = s17_data['signal']['chest']['EMG'][:,0]\n",
    "chest_eda17 = s17_data['signal']['chest']['EDA'][:,0]\n",
    "chest_temp17 = s17_data['signal']['chest']['Temp'][:,0]\n",
    "chest_resp17 = s17_data['signal']['chest']['Resp'][:,0]"
   ]
  },
  {
   "cell_type": "code",
   "execution_count": 21,
   "id": "d61dae1e",
   "metadata": {},
   "outputs": [],
   "source": [
    "c3_length=(len(chest_ax3),len(chest_ay3),len(chest_az3),len(chest_ecg3),len(chest_emg3),len(chest_eda3),len(chest_temp3),len(chest_resp3)) \n",
    "c4_length=(len(chest_ax4),len(chest_ay4),len(chest_az4),len(chest_ecg4),len(chest_emg4),len(chest_eda4),len(chest_temp4),len(chest_resp4)) \n",
    "c5_length=(len(chest_ax5),len(chest_ay5),len(chest_az5),len(chest_ecg5),len(chest_emg5),len(chest_eda5),len(chest_temp5),len(chest_resp5)) \n",
    "c6_length=(len(chest_ax6),len(chest_ay6),len(chest_az6),len(chest_ecg6),len(chest_emg6),len(chest_eda6),len(chest_temp6),len(chest_resp6)) \n",
    "c7_length=(len(chest_ax7),len(chest_ay7),len(chest_az7),len(chest_ecg7),len(chest_emg7),len(chest_eda7),len(chest_temp7),len(chest_resp7)) \n",
    "c8_length=(len(chest_ax8),len(chest_ay8),len(chest_az8),len(chest_ecg8),len(chest_emg8),len(chest_eda8),len(chest_temp8),len(chest_resp8)) \n",
    "c9_length=(len(chest_ax9),len(chest_ay9),len(chest_az9),len(chest_ecg9),len(chest_emg9),len(chest_eda9),len(chest_temp9),len(chest_resp9)) \n",
    "c10_length=(len(chest_ax10),len(chest_ay10),len(chest_az10),len(chest_ecg10),len(chest_emg10),len(chest_eda10),len(chest_temp10),len(chest_resp10)) \n",
    "c11_length=(len(chest_ax11),len(chest_ay11),len(chest_az11),len(chest_ecg11),len(chest_emg11),len(chest_eda11),len(chest_temp11),len(chest_resp11)) \n",
    "c13_length=(len(chest_ax13),len(chest_ay13),len(chest_az13),len(chest_ecg13),len(chest_emg13),len(chest_eda13),len(chest_temp13),len(chest_resp13)) \n",
    "c14_length=(len(chest_ax14),len(chest_ay14),len(chest_az14),len(chest_ecg14),len(chest_emg14),len(chest_eda14),len(chest_temp14),len(chest_resp14)) \n",
    "c15_length=(len(chest_ax15),len(chest_ay15),len(chest_az15),len(chest_ecg15),len(chest_emg15),len(chest_eda15),len(chest_temp15),len(chest_resp15)) \n",
    "c16_length=(len(chest_ax16),len(chest_ay16),len(chest_az16),len(chest_ecg16),len(chest_emg16),len(chest_eda16),len(chest_temp16),len(chest_resp16)) \n",
    "c17_length=(len(chest_ax17),len(chest_ay17),len(chest_az17),len(chest_ecg17),len(chest_emg17),len(chest_eda17),len(chest_temp17),len(chest_resp17)) \n"
   ]
  },
  {
   "cell_type": "code",
   "execution_count": 22,
   "id": "fdf2bce8",
   "metadata": {},
   "outputs": [
    {
     "name": "stdout",
     "output_type": "stream",
     "text": [
      "(4545100, 4545100, 4545100, 4545100, 4545100, 4545100, 4545100, 4545100)\n",
      "(4496100, 4496100, 4496100, 4496100, 4496100, 4496100, 4496100, 4496100)\n",
      "(4380600, 4380600, 4380600, 4380600, 4380600, 4380600, 4380600, 4380600)\n",
      "(4949700, 4949700, 4949700, 4949700, 4949700, 4949700, 4949700, 4949700)\n",
      "(3666600, 3666600, 3666600, 3666600, 3666600, 3666600, 3666600, 3666600)\n",
      "(3826200, 3826200, 3826200, 3826200, 3826200, 3826200, 3826200, 3826200)\n",
      "(3656100, 3656100, 3656100, 3656100, 3656100, 3656100, 3656100, 3656100)\n",
      "(3847200, 3847200, 3847200, 3847200, 3847200, 3847200, 3847200, 3847200)\n",
      "(3663100, 3663100, 3663100, 3663100, 3663100, 3663100, 3663100, 3663100)\n",
      "(3875900, 3875900, 3875900, 3875900, 3875900, 3875900, 3875900, 3875900)\n",
      "(3883600, 3883600, 3883600, 3883600, 3883600, 3883600, 3883600, 3883600)\n",
      "(3676400, 3676400, 3676400, 3676400, 3676400, 3676400, 3676400, 3676400)\n",
      "(3941700, 3941700, 3941700, 3941700, 3941700, 3941700, 3941700, 3941700)\n",
      "(4144000, 4144000, 4144000, 4144000, 4144000, 4144000, 4144000, 4144000)\n"
     ]
    }
   ],
   "source": [
    "print(c3_length)\n",
    "print(c4_length)\n",
    "print(c5_length)\n",
    "print(c6_length)\n",
    "print(c7_length)\n",
    "print(c8_length)\n",
    "print(c9_length)\n",
    "print(c10_length)\n",
    "print(c11_length)\n",
    "print(c13_length)\n",
    "print(c14_length)\n",
    "print(c15_length)\n",
    "print(c16_length)\n",
    "print(c17_length)"
   ]
  },
  {
   "cell_type": "code",
   "execution_count": 23,
   "id": "c0bf5ef5",
   "metadata": {},
   "outputs": [
    {
     "data": {
      "text/plain": [
       "<BarContainer object of 14 artists>"
      ]
     },
     "execution_count": 23,
     "metadata": {},
     "output_type": "execute_result"
    },
    {
     "data": {
      "image/png": "[encoded data removed]",
      "text/plain": [
       "<Figure size 432x288 with 1 Axes>"
      ]
     },
     "metadata": {
      "needs_background": "light"
     },
     "output_type": "display_data"
    }
   ],
   "source": [
    "fig = plt.figure()\n",
    "ax = fig.add_axes([1,1,2,2])\n",
    "x_ax = [\"sub_3\", \"sub_4\", \"sub_5\",\"sub_6\",\"sub_7\",\"sub_8\",\"sub_9\",\"sub_10\",\"sub_11\",\"sub_13\",\"sub_14\",\"sub_15\",\"sub_16\",\"sub_17\"]\n",
    "y_ax = [len(chest_ax3),len(chest_ax4),len(chest_ax5),len(chest_ax6),len(chest_ax7),len(chest_ax8),len(chest_ax9),len(chest_ax10),len(chest_ax11),len(chest_ax13),len(chest_ax14),len(chest_ax15),len(chest_ax16),len(chest_ax17)]\n",
    "ax.bar(x_ax,y_ax,color = 'c', width = 0.50)"
   ]
  },
  {
   "cell_type": "code",
   "execution_count": 24,
   "id": "7afdbba8",
   "metadata": {},
   "outputs": [],
   "source": [
    "label3 = s3_data['label']\n",
    "label4 = s4_data['label']\n",
    "label5 = s5_data['label']\n",
    "label6 = s6_data['label']\n",
    "label7 = s7_data['label']\n",
    "label8 = s8_data['label']\n",
    "label9 = s9_data['label']\n",
    "label10 = s10_data['label']\n",
    "label11 = s11_data['label']\n",
    "label13 = s13_data['label']\n",
    "label14 = s14_data['label']\n",
    "label15 = s15_data['label']\n",
    "label16 = s16_data['label']\n",
    "label17 = s17_data['label']"
   ]
  },
  {
   "cell_type": "code",
   "execution_count": 25,
   "id": "fd07fca6",
   "metadata": {},
   "outputs": [
    {
     "name": "stdout",
     "output_type": "stream",
     "text": [
      "chest data of subject 3 frame combined\n"
     ]
    }
   ],
   "source": [
    "numpy_data=np.array([chest_ax3,chest_ay3,chest_az3,chest_ecg3,chest_emg3,chest_eda3,chest_temp3,chest_resp3,label3]) \n",
    "numpy_data=numpy_data.T\n",
    "df_chest3 = pd.DataFrame(data=numpy_data, columns=[\"chest_ax3\", \"chest_ay3\", \"chest_az3\",\"chest_ecg3\",\"chest_emg3\",\"chest_eda3\",\"chest_temp3\",\"chest_resp3\",\"label3\"]) \n",
    "\n",
    "print(\"chest data of subject 3 frame combined\")"
   ]
  },
  {
   "cell_type": "code",
   "execution_count": 26,
   "id": "50429337",
   "metadata": {},
   "outputs": [],
   "source": [
    "df_chest3.to_csv('chest_data3.csv')"
   ]
  },
  {
   "cell_type": "code",
   "execution_count": 27,
   "id": "aaf0869a",
   "metadata": {},
   "outputs": [
    {
     "name": "stdout",
     "output_type": "stream",
     "text": [
      "chest data of subject 4 frame combined\n"
     ]
    }
   ],
   "source": [
    "numpy_data=np.array([chest_ax4,chest_ay4,chest_az4,chest_ecg4,chest_emg4,chest_eda4,chest_temp4,chest_resp4,label4]) \n",
    "numpy_data=numpy_data.T\n",
    "df_chest4 = pd.DataFrame(data=numpy_data, columns=[\"chest_ax4\", \"chest_ay4\", \"chest_az4\",\"chest_ecg4\",\"chest_emg4\",\"chest_eda4\",\"chest_temp4\",\"chest_resp4\",\"label4\"]) \n",
    "\n",
    "print(\"chest data of subject 4 frame combined\")"
   ]
  },
  {
   "cell_type": "code",
   "execution_count": 28,
   "id": "c98924ba",
   "metadata": {},
   "outputs": [],
   "source": [
    "df_chest4.to_csv('chest_data4.csv')"
   ]
  },
  {
   "cell_type": "code",
   "execution_count": 29,
   "id": "82483043",
   "metadata": {},
   "outputs": [
    {
     "name": "stdout",
     "output_type": "stream",
     "text": [
      "chest data of subject 5 frame combined\n"
     ]
    }
   ],
   "source": [
    "numpy_data=np.array([chest_ax5,chest_ay5,chest_az5,chest_ecg5,chest_emg5,chest_eda5,chest_temp5,chest_resp5,label5]) \n",
    "numpy_data=numpy_data.T\n",
    "df_chest5 = pd.DataFrame(data=numpy_data, columns=[\"chest_ax5\", \"chest_ay5\", \"chest_az5\",\"chest_ecg5\",\"chest_emg5\",\"chest_eda5\",\"chest_temp5\",\"chest_resp5\",\"label5\"]) \n",
    "\n",
    "print(\"chest data of subject 5 frame combined\")"
   ]
  },
  {
   "cell_type": "code",
   "execution_count": 30,
   "id": "2365d684",
   "metadata": {},
   "outputs": [],
   "source": [
    "df_chest5.to_csv('chest_data5.csv')"
   ]
  },
  {
   "cell_type": "code",
   "execution_count": 31,
   "id": "0e13c100",
   "metadata": {},
   "outputs": [
    {
     "name": "stdout",
     "output_type": "stream",
     "text": [
      "chest data of subject 6 frame combined\n"
     ]
    }
   ],
   "source": [
    "numpy_data=np.array([chest_ax6,chest_ay6,chest_az6,chest_ecg6,chest_emg6,chest_eda6,chest_temp6,chest_resp6,label6]) \n",
    "numpy_data=numpy_data.T\n",
    "df_chest6 = pd.DataFrame(data=numpy_data, columns=[\"chest_ax6\", \"chest_ay6\", \"chest_az6\",\"chest_ecg6\",\"chest_emg6\",\"chest_eda6\",\"chest_temp6\",\"chest_resp6\",\"label6\"]) \n",
    "\n",
    "print(\"chest data of subject 6 frame combined\")"
   ]
  },
  {
   "cell_type": "code",
   "execution_count": 32,
   "id": "53554eca",
   "metadata": {},
   "outputs": [],
   "source": [
    "df_chest6.to_csv('chest_data6.csv')"
   ]
  },
  {
   "cell_type": "code",
   "execution_count": 33,
   "id": "a170bf70",
   "metadata": {},
   "outputs": [
    {
     "name": "stdout",
     "output_type": "stream",
     "text": [
      "chest data of subject 7 frame combined\n"
     ]
    }
   ],
   "source": [
    "numpy_data=np.array([chest_ax7,chest_ay7,chest_az7,chest_ecg7,chest_emg7,chest_eda7,chest_temp7,chest_resp7,label7]) \n",
    "numpy_data=numpy_data.T\n",
    "df_chest7 = pd.DataFrame(data=numpy_data, columns=[\"chest_ax7\", \"chest_ay7\", \"chest_az7\",\"chest_ecg7\",\"chest_emg7\",\"chest_eda7\",\"chest_temp7\",\"chest_resp7\",\"label7\"]) \n",
    "\n",
    "print(\"chest data of subject 7 frame combined\")"
   ]
  },
  {
   "cell_type": "code",
   "execution_count": 34,
   "id": "8f29163f",
   "metadata": {},
   "outputs": [],
   "source": [
    "df_chest7.to_csv('chest_data7.csv')"
   ]
  },
  {
   "cell_type": "code",
   "execution_count": 35,
   "id": "10ab22aa",
   "metadata": {},
   "outputs": [
    {
     "name": "stdout",
     "output_type": "stream",
     "text": [
      "chest data of subject 8 frame combined\n"
     ]
    }
   ],
   "source": [
    "numpy_data=np.array([chest_ax8,chest_ay8,chest_az8,chest_ecg8,chest_emg8,chest_eda8,chest_temp8,chest_resp8,label8]) \n",
    "numpy_data=numpy_data.T\n",
    "df_chest8 = pd.DataFrame(data=numpy_data, columns=[\"chest_ax8\", \"chest_ay8\", \"chest_az8\",\"chest_ecg8\",\"chest_emg8\",\"chest_eda8\",\"chest_temp8\",\"chest_resp8\",\"label8\"]) \n",
    "\n",
    "print(\"chest data of subject 8 frame combined\")"
   ]
  },
  {
   "cell_type": "code",
   "execution_count": 36,
   "id": "187899e4",
   "metadata": {},
   "outputs": [],
   "source": [
    "df_chest8.to_csv('chest_data8.csv')"
   ]
  },
  {
   "cell_type": "code",
   "execution_count": 37,
   "id": "b133a17b",
   "metadata": {},
   "outputs": [
    {
     "name": "stdout",
     "output_type": "stream",
     "text": [
      "chest data of subject 9 frame combined\n"
     ]
    }
   ],
   "source": [
    "numpy_data=np.array([chest_ax9,chest_ay9,chest_az9,chest_ecg9,chest_emg9,chest_eda9,chest_temp9,chest_resp9,label9]) \n",
    "numpy_data=numpy_data.T\n",
    "df_chest9 = pd.DataFrame(data=numpy_data, columns=[\"chest_ax9\", \"chest_ay9\", \"chest_az9\",\"chest_ecg9\",\"chest_emg9\",\"chest_eda9\",\"chest_temp9\",\"chest_resp9\",\"label9\"]) \n",
    "\n",
    "print(\"chest data of subject 9 frame combined\")"
   ]
  },
  {
   "cell_type": "code",
   "execution_count": 38,
   "id": "7b5ef49c",
   "metadata": {},
   "outputs": [],
   "source": [
    "df_chest9.to_csv('chest_data9.csv')"
   ]
  },
  {
   "cell_type": "code",
   "execution_count": 39,
   "id": "3d6ff50a",
   "metadata": {},
   "outputs": [
    {
     "name": "stdout",
     "output_type": "stream",
     "text": [
      "chest data of subject 10 frame combined\n"
     ]
    }
   ],
   "source": [
    "numpy_data=np.array([chest_ax10,chest_ay10,chest_az10,chest_ecg10,chest_emg10,chest_eda10,chest_temp10,chest_resp10,label10]) \n",
    "numpy_data=numpy_data.T\n",
    "df_chest10 = pd.DataFrame(data=numpy_data, columns=[\"chest_ax10\", \"chest_ay10\", \"chest_az10\",\"chest_ecg10\",\"chest_emg10\",\"chest_eda10\",\"chest_temp10\",\"chest_resp10\",\"label10\"]) \n",
    "\n",
    "print(\"chest data of subject 10 frame combined\")"
   ]
  },
  {
   "cell_type": "code",
   "execution_count": 40,
   "id": "5a3494e8",
   "metadata": {},
   "outputs": [],
   "source": [
    "df_chest10.to_csv('chest_data10.csv')"
   ]
  },
  {
   "cell_type": "code",
   "execution_count": 41,
   "id": "aec1cfc6",
   "metadata": {},
   "outputs": [
    {
     "name": "stdout",
     "output_type": "stream",
     "text": [
      "chest data of subject 11 frame combined\n"
     ]
    }
   ],
   "source": [
    "numpy_data=np.array([chest_ax11,chest_ay11,chest_az11,chest_ecg11,chest_emg11,chest_eda11,chest_temp11,chest_resp11,label11]) \n",
    "numpy_data=numpy_data.T\n",
    "df_chest11 = pd.DataFrame(data=numpy_data, columns=[\"chest_ax11\", \"chest_ay11\", \"chest_az11\",\"chest_ecg11\",\"chest_emg11\",\"chest_eda11\",\"chest_temp11\",\"chest_resp11\",\"label11\"]) \n",
    "\n",
    "print(\"chest data of subject 11 frame combined\")"
   ]
  },
  {
   "cell_type": "code",
   "execution_count": 42,
   "id": "604a619c",
   "metadata": {},
   "outputs": [],
   "source": [
    "df_chest11.to_csv('chest_data11.csv')"
   ]
  },
  {
   "cell_type": "code",
   "execution_count": 43,
   "id": "45c2b609",
   "metadata": {},
   "outputs": [
    {
     "name": "stdout",
     "output_type": "stream",
     "text": [
      "chest data of subject 13 frame combined\n"
     ]
    }
   ],
   "source": [
    "numpy_data=np.array([chest_ax13,chest_ay13,chest_az13,chest_ecg13,chest_emg13,chest_eda13,chest_temp13,chest_resp13,label13]) \n",
    "numpy_data=numpy_data.T\n",
    "df_chest13 = pd.DataFrame(data=numpy_data, columns=[\"chest_ax13\", \"chest_ay13\", \"chest_az13\",\"chest_ecg13\",\"chest_emg13\",\"chest_eda13\",\"chest_temp13\",\"chest_resp13\",\"label13\"]) \n",
    "\n",
    "print(\"chest data of subject 13 frame combined\")"
   ]
  },
  {
   "cell_type": "code",
   "execution_count": null,
   "id": "49416930",
   "metadata": {},
   "outputs": [],
   "source": [
    "df_chest13.to_csv('chest_data13.csv')"
   ]
  },
  {
   "cell_type": "code",
   "execution_count": 60,
   "id": "08b3fea0",
   "metadata": {},
   "outputs": [
    {
     "name": "stdout",
     "output_type": "stream",
     "text": [
      "chest data of subject 14 frame combined\n"
     ]
    }
   ],
   "source": [
    "numpy_data=np.array([chest_ax14,chest_ay14,chest_az14,chest_ecg14,chest_emg14,chest_eda14,chest_temp14,chest_resp14,label14]) \n",
    "numpy_data=numpy_data.T\n",
    "df_chest14 = pd.DataFrame(data=numpy_data, columns=[\"chest_ax14\", \"chest_ay14\", \"chest_az14\",\"chest_ecg14\",\"chest_emg14\",\"chest_eda14\",\"chest_temp14\",\"chest_resp14\",\"label14\"]) \n",
    "\n",
    "print(\"chest data of subject 14 frame combined\")"
   ]
  },
  {
   "cell_type": "code",
   "execution_count": 61,
   "id": "9b791b1e",
   "metadata": {},
   "outputs": [],
   "source": [
    "df_chest14.to_csv('chest_data14.csv')"
   ]
  },
  {
   "cell_type": "code",
   "execution_count": 62,
   "id": "fc3edd86",
   "metadata": {},
   "outputs": [
    {
     "name": "stdout",
     "output_type": "stream",
     "text": [
      "chest data of subject 15 frame combined\n"
     ]
    }
   ],
   "source": [
    "numpy_data=np.array([chest_ax15,chest_ay15,chest_az15,chest_ecg15,chest_emg15,chest_eda15,chest_temp15,chest_resp15,label15]) \n",
    "numpy_data=numpy_data.T\n",
    "df_chest15 = pd.DataFrame(data=numpy_data, columns=[\"chest_ax15\", \"chest_ay15\", \"chest_az15\",\"chest_ecg15\",\"chest_emg15\",\"chest_eda15\",\"chest_temp15\",\"chest_resp15\",\"label15\"]) \n",
    "\n",
    "print(\"chest data of subject 15 frame combined\")"
   ]
  },
  {
   "cell_type": "code",
   "execution_count": 63,
   "id": "1c9dccbc",
   "metadata": {},
   "outputs": [],
   "source": [
    "df_chest15.to_csv('chest_data15.csv')"
   ]
  },
  {
   "cell_type": "code",
   "execution_count": 67,
   "id": "41786d78",
   "metadata": {},
   "outputs": [
    {
     "name": "stdout",
     "output_type": "stream",
     "text": [
      "chest data of subject 16 frame combined\n"
     ]
    }
   ],
   "source": [
    "numpy_data=np.array([chest_ax16,chest_ay16,chest_az16,chest_ecg16,chest_emg16,chest_eda16,chest_temp16,chest_resp16,label16]) \n",
    "numpy_data=numpy_data.T\n",
    "df_chest16 = pd.DataFrame(data=numpy_data, columns=[\"chest_ax16\", \"chest_ay16\", \"chest_az16\",\"chest_ecg16\",\"chest_emg16\",\"chest_eda16\",\"chest_temp16\",\"chest_resp16\",\"label16\"]) \n",
    "\n",
    "print(\"chest data of subject 16 frame combined\")"
   ]
  },
  {
   "cell_type": "code",
   "execution_count": 68,
   "id": "5e495901",
   "metadata": {},
   "outputs": [],
   "source": [
    "df_chest16.to_csv('chest_data16.csv')"
   ]
  },
  {
   "cell_type": "code",
   "execution_count": 65,
   "id": "b19570c7",
   "metadata": {},
   "outputs": [
    {
     "name": "stdout",
     "output_type": "stream",
     "text": [
      "chest data of subject 17 frame combined\n"
     ]
    }
   ],
   "source": [
    "numpy_data=np.array([chest_ax17,chest_ay17,chest_az17,chest_ecg17,chest_emg17,chest_eda17,chest_temp17,chest_resp17,label17]) \n",
    "numpy_data=numpy_data.T\n",
    "df_chest17 = pd.DataFrame(data=numpy_data, columns=[\"chest_ax17\", \"chest_ay17\", \"chest_az17\",\"chest_ecg17\",\"chest_emg17\",\"chest_eda17\",\"chest_temp17\",\"chest_resp17\",\"label17\"]) \n",
    "\n",
    "print(\"chest data of subject 17 frame combined\")"
   ]
  },
  {
   "cell_type": "code",
   "execution_count": 66,
   "id": "45fbaa64",
   "metadata": {},
   "outputs": [],
   "source": [
    "df_chest17.to_csv('chest_data17.csv')"
   ]
  }
 ],
 "metadata": {
  "kernelspec": {
   "display_name": "Python 3",
   "language": "python",
   "name": "python3"
  },
  "language_info": {
   "codemirror_mode": {
    "name": "ipython",
    "version": 3
   },
   "file_extension": ".py",
   "mimetype": "text/x-python",
   "name": "python",
   "nbconvert_exporter": "python",
   "pygments_lexer": "ipython3",
   "version": "3.8.8"
  }
 },
 "nbformat": 4,
 "nbformat_minor": 5
}
